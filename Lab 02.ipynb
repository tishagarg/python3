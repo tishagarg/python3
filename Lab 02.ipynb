{
 "cells": [
  {
   "cell_type": "markdown",
   "metadata": {},
   "source": [
    "## LAB 02\n"
   ]
  },
  {
   "cell_type": "markdown",
   "metadata": {},
   "source": [
    "1. To check whether the given number is odd or even"
   ]
  },
  {
   "cell_type": "code",
   "execution_count": 11,
   "metadata": {},
   "outputs": [
    {
     "name": "stdout",
     "output_type": "stream",
     "text": [
      "Enter a number :\n",
      "5\n",
      "It is an odd number\n"
     ]
    }
   ],
   "source": [
    "print(\"Enter a number :\")\n",
    "x = int(input())\n",
    "if(x%2 ==0):\n",
    "    print(\"It is even number\")\n",
    "else : print(\"It is an odd number\")"
   ]
  },
  {
   "cell_type": "markdown",
   "metadata": {},
   "source": [
    "2. Check whether an entered year is leap year or not.\n",
    "    \n"
   ]
  },
  {
   "cell_type": "code",
   "execution_count": 12,
   "metadata": {},
   "outputs": [
    {
     "name": "stdout",
     "output_type": "stream",
     "text": [
      "Enter a year :\n",
      "2020\n",
      "It is a leap year\n"
     ]
    }
   ],
   "source": [
    "print(\"Enter a year :\")\n",
    "x = int(input())\n",
    "if(x%4 ==0):\n",
    "    print(\"It is a leap year\")\n",
    "else : print(\"It is not a leap year\")"
   ]
  },
  {
   "cell_type": "markdown",
   "metadata": {},
   "source": [
    "3. Write a program to check whether a character is vowel or consonants.\n"
   ]
  },
  {
   "cell_type": "code",
   "execution_count": 18,
   "metadata": {},
   "outputs": [
    {
     "name": "stdout",
     "output_type": "stream",
     "text": [
      "Enter a character :\n",
      "d\n",
      "d  is a consonant\n"
     ]
    }
   ],
   "source": [
    "print(\"Enter a character :\")\n",
    "x = input()\n",
    "if(x ==\"a\" or x== \"A\" or x==\"E\" or x==\"i\" or x== \"O\" or x== \"U\" or x==\"o\" or x==\"u\" or x==\"e\" or x==\"I\"):\n",
    "    print(x,\" is a vowel\")\n",
    "else : print(x,\" is a consonant\")"
   ]
  },
  {
   "cell_type": "markdown",
   "metadata": {},
   "source": [
    "4. Write a program to find the smallest of two numbers.\n"
   ]
  },
  {
   "cell_type": "code",
   "execution_count": 19,
   "metadata": {},
   "outputs": [
    {
     "name": "stdout",
     "output_type": "stream",
     "text": [
      "Enter a Two numbers :\n",
      "4\n",
      "5\n",
      "5 is greater\n"
     ]
    }
   ],
   "source": [
    "print(\"Enter a Two numbers :\")\n",
    "x = int(input())\n",
    "y = int(input())\n",
    "if(x>y):\n",
    "    print(x,\"is greater\")\n",
    "else : print(y,\"is greater\")"
   ]
  },
  {
   "cell_type": "markdown",
   "metadata": {},
   "source": [
    "5. Find the Factorial of a Number\n"
   ]
  },
  {
   "cell_type": "code",
   "execution_count": 58,
   "metadata": {},
   "outputs": [
    {
     "name": "stdout",
     "output_type": "stream",
     "text": [
      "Enter a number to find factorial :\n",
      "5\n",
      "The factorial of 5 is 120\n"
     ]
    }
   ],
   "source": [
    "i =0\n",
    "factorial=1\n",
    "print(\"Enter a number to find factorial :\")\n",
    "x = int(input())\n",
    "for i in range(1, x+1) :\n",
    "     factorial = factorial * i\n",
    "\n",
    "print(\"The factorial of\", x, \"is\" ,factorial)\n"
   ]
  },
  {
   "cell_type": "markdown",
   "metadata": {},
   "source": [
    "6. Write a program to print this patterns\n"
   ]
  },
  {
   "cell_type": "code",
   "execution_count": 8,
   "metadata": {},
   "outputs": [
    {
     "name": "stdout",
     "output_type": "stream",
     "text": [
      "Enter numnber of rows : 5\n",
      "    * \n",
      "\n",
      "   * * \n",
      "\n",
      "  * * * \n",
      "\n",
      " * * * * \n",
      "\n",
      "* * * * * \n",
      "\n"
     ]
    }
   ],
   "source": [
    "a = int(input(\"Enter numnber of rows : \"))\n",
    "for i in range(1,a+1):\n",
    "    print(\" \"*(a-i),end=\"\")\n",
    "    for j in range(0,i):\n",
    "        print(\"*\",end=\" \")\n",
    "    print(\"\\n\")"
   ]
  },
  {
   "cell_type": "markdown",
   "metadata": {},
   "source": [
    "7. Write a program to print this series\n",
    "             1 1 2 3 5 8 13 \n"
   ]
  },
  {
   "cell_type": "code",
   "execution_count": 84,
   "metadata": {},
   "outputs": [
    {
     "name": "stdout",
     "output_type": "stream",
     "text": [
      "Enter a number upto which fibonacci is to be printed :\n",
      "12\n",
      "1\n",
      "2\n",
      "3\n",
      "5\n",
      "8\n",
      "13\n",
      "21\n",
      "34\n",
      "55\n",
      "89\n",
      "144\n"
     ]
    }
   ],
   "source": [
    "i =0\n",
    "n1=0\n",
    "n2 = 1\n",
    "n3 = n1+n2\n",
    "print(\"Enter a number upto which fibonacci is to be printed :\")\n",
    "x = int(input())\n",
    "for i in range(1, x) :\n",
    "    n3 = n1+n2\n",
    "    print(n3)\n",
    "    n1 = n2\n",
    "    n2 = n3\n"
   ]
  },
  {
   "cell_type": "markdown",
   "metadata": {},
   "source": [
    "8. Check whether a number is prime or not\n"
   ]
  },
  {
   "cell_type": "code",
   "execution_count": 76,
   "metadata": {},
   "outputs": [
    {
     "name": "stdout",
     "output_type": "stream",
     "text": [
      "Please enter the number: 12\n",
      "12 is not a prime number\n"
     ]
    }
   ],
   "source": [
    "n = int(input(\"Please enter the number: \"))\n",
    "\n",
    "if n > 1:\n",
    " for i in range(2,n//2):\n",
    "    if (n % i) == 0:\n",
    "         print(n,\"is not a prime number\")\n",
    "         break   \n",
    "    else:\n",
    "         print(n,\"is a prime number\")\n",
    "else:\n",
    "    print(n, \"is not a prime number\")\n"
   ]
  },
  {
   "cell_type": "markdown",
   "metadata": {},
   "source": [
    "9. Make a Simple Calculator"
   ]
  },
  {
   "cell_type": "code",
   "execution_count": 5,
   "metadata": {},
   "outputs": [
    {
     "name": "stdout",
     "output_type": "stream",
     "text": [
      "Enter a Two numbers :\n",
      "3\n",
      "6\n",
      "Enter choice from 1 - 4 :\n",
      "3\n",
      " Product of 3 and 6 is 18\n"
     ]
    }
   ],
   "source": [
    "sum = 0\n",
    "difference = 0\n",
    "product = 0\n",
    "division = 0\n",
    "print(\"Enter a Two numbers :\")\n",
    "x = int(input())\n",
    "y = int(input())\n",
    "print(\"Enter choice from 1 - 4 :\")\n",
    "n = int(input())\n",
    "if(x == 1):\n",
    "    sum = x+y\n",
    "    print(\" Sum of\",x,\"and\",y, \"is\",sum)\n",
    "elif (x == 2):\n",
    "    difference = y-x\n",
    "    print(\" Difference of\",x,\"and\",y, \"is\",difference)\n",
    "elif (x == 3):\n",
    "    product = y * x\n",
    "    print(\" Product of\",x,\"and\",y, \"is\",product)\n",
    "elif (x == 4):\n",
    "    division = x/y\n",
    "    print(\" Division of\",x,\"and\",y, \"is\",division)\n",
    "else: print(\"INVALID INPUT\")\n",
    "        "
   ]
  }
 ],
 "metadata": {
  "kernelspec": {
   "display_name": "Python 3",
   "language": "python",
   "name": "python3"
  },
  "language_info": {
   "codemirror_mode": {
    "name": "ipython",
    "version": 3
   },
   "file_extension": ".py",
   "mimetype": "text/x-python",
   "name": "python",
   "nbconvert_exporter": "python",
   "pygments_lexer": "ipython3",
   "version": "3.8.5"
  }
 },
 "nbformat": 4,
 "nbformat_minor": 4
}
