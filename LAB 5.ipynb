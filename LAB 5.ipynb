{
 "cells": [
  {
   "cell_type": "markdown",
   "metadata": {},
   "source": [
    "## LAB 05"
   ]
  },
  {
   "cell_type": "markdown",
   "metadata": {},
   "source": [
    "1. Write a Python program to sum all the items in a list. \n"
   ]
  },
  {
   "cell_type": "code",
   "execution_count": 19,
   "metadata": {
    "scrolled": true
   },
   "outputs": [
    {
     "name": "stdout",
     "output_type": "stream",
     "text": [
      "15\n"
     ]
    }
   ],
   "source": [
    "list1 = [1,2,3,4,5]\n",
    "count =0\n",
    "for x in list1:\n",
    "    count = count+x\n",
    "print(count)"
   ]
  },
  {
   "cell_type": "markdown",
   "metadata": {},
   "source": [
    "2. Write a Python program to multiplies all the items in a list.  \n"
   ]
  },
  {
   "cell_type": "code",
   "execution_count": 20,
   "metadata": {},
   "outputs": [
    {
     "name": "stdout",
     "output_type": "stream",
     "text": [
      "120\n"
     ]
    }
   ],
   "source": [
    "list1 = [1,2,3,4,5]\n",
    "count =1\n",
    "for x in list1:\n",
    "    count = count*x\n",
    "print(count)"
   ]
  },
  {
   "cell_type": "markdown",
   "metadata": {},
   "source": [
    "3. Write a Python program to get the largest number from a list\n"
   ]
  },
  {
   "cell_type": "code",
   "execution_count": 26,
   "metadata": {},
   "outputs": [
    {
     "name": "stdout",
     "output_type": "stream",
     "text": [
      "[1, 2, 3, 4, 5]\n",
      " Greatest number is  5\n"
     ]
    }
   ],
   "source": [
    "list1 = [1,2,3,4,5]\n",
    "count =0\n",
    "print(list1)\n",
    "for x in list1:\n",
    "    if x >= 5:\n",
    "        print(\" Greatest number is \",x)\n",
    "    else:\n",
    "        count = count+1"
   ]
  },
  {
   "cell_type": "markdown",
   "metadata": {},
   "source": [
    "4. Write a Python program to get the smallest number from list. \n",
    "\n",
    " "
   ]
  },
  {
   "cell_type": "code",
   "execution_count": 27,
   "metadata": {},
   "outputs": [
    {
     "name": "stdout",
     "output_type": "stream",
     "text": [
      "[67, 23, 32, 41, 5]\n",
      " Smallest number is  5\n"
     ]
    }
   ],
   "source": [
    "list1 = [67,23,32,41,5]\n",
    "count =0\n",
    "print(list1)\n",
    "for x in list1:\n",
    "    if x <= 5:\n",
    "        print(\" Smallest number is \",x)\n",
    "    else:\n",
    "        count = count+1"
   ]
  },
  {
   "cell_type": "markdown",
   "metadata": {},
   "source": [
    " 5. Write a Python program to count the number of strings where the string length is 2 or more and the first and last character are same from a given list of strings \n",
    "Sample List : ['abc', 'xyz', 'aba', '1221']. Expected Result : 2\n"
   ]
  },
  {
   "cell_type": "code",
   "execution_count": 40,
   "metadata": {},
   "outputs": [
    {
     "name": "stdout",
     "output_type": "stream",
     "text": [
      "['123', 'abcd', '43', '445', '9']\n",
      " The number of strings is  4\n"
     ]
    }
   ],
   "source": [
    "list1 = ['123',\"abcd\",'43','445','9']\n",
    "count =0\n",
    "print(list1)\n",
    "for x in list1:\n",
    "    if len(x)>= 2:\n",
    "         count = count+1\n",
    "print(\" The number of strings is \",count)       "
   ]
  },
  {
   "cell_type": "markdown",
   "metadata": {},
   "source": [
    "6. Write a Python program to get a list, sorted in increasing order by the last element in each tuple from a given list of non-empty tuples.  \n",
    "Sample List : [(2, 5), (1, 2), (4, 4), (2, 3), (2, 1)]\n",
    "Expected Result : [(2, 1), (1, 2), (2, 3), (4, 4), (2, 5)]\n"
   ]
  },
  {
   "cell_type": "code",
   "execution_count": 1,
   "metadata": {},
   "outputs": [
    {
     "name": "stdout",
     "output_type": "stream",
     "text": [
      "sorted!!\n",
      "[(2, 6), (2, 9), (5, 9), (8, 11)]\n"
     ]
    }
   ],
   "source": [
    "tup = [(2,6), (8,11),(5,9),(2,9)]\n",
    "li = list(tup)\n",
    "li.sort()\n",
    "print(\"sorted!!\")\n",
    "print(li)"
   ]
  },
  {
   "cell_type": "markdown",
   "metadata": {},
   "source": [
    "7. Write a Python program to remove duplicates from a list. \n"
   ]
  },
  {
   "cell_type": "code",
   "execution_count": 43,
   "metadata": {},
   "outputs": [
    {
     "name": "stdout",
     "output_type": "stream",
     "text": [
      " The duplicate elements in the list are  ['1', '5', '6', '7']\n"
     ]
    }
   ],
   "source": [
    "list1 = ['1','1','1','5','5','6','7']\n",
    "temp=[]\n",
    "for i in list1:\n",
    "    if i not in temp:\n",
    "        temp.append(i)\n",
    "list1 = temp\n",
    "print(\" The duplicate elements in the list are \",list1)\n",
    "\n"
   ]
  },
  {
   "cell_type": "markdown",
   "metadata": {},
   "source": [
    "8. Write a Python program to check a list is empty or not. \n",
    " "
   ]
  },
  {
   "cell_type": "code",
   "execution_count": 48,
   "metadata": {},
   "outputs": [
    {
     "name": "stdout",
     "output_type": "stream",
     "text": [
      " Temp is an empty list  []\n"
     ]
    }
   ],
   "source": [
    "list1 = ['1','5','6','7']\n",
    "temp=[]\n",
    "count = 0\n",
    "for i in list1:\n",
    "    if i not in temp:\n",
    "        count = count+1\n",
    "print(\" Temp is an empty list \",temp)\n",
    "\n"
   ]
  },
  {
   "cell_type": "markdown",
   "metadata": {},
   "source": [
    "9. Write a Python program to clone or copy a list. \n"
   ]
  },
  {
   "cell_type": "code",
   "execution_count": 12,
   "metadata": {},
   "outputs": [
    {
     "name": "stdout",
     "output_type": "stream",
     "text": [
      "['1', '5', '6', '7']\n",
      "['1', '5', '6', '7']\n"
     ]
    }
   ],
   "source": [
    "list1 = ['1','5','6','7']\n",
    "new_list = list(list1)\n",
    "print(new_list)\n",
    "print(list1)"
   ]
  },
  {
   "cell_type": "markdown",
   "metadata": {},
   "source": [
    "10. Write a Python program to find the list of words that are longer than n from a given list of words.  \n"
   ]
  },
  {
   "cell_type": "code",
   "execution_count": 74,
   "metadata": {},
   "outputs": [
    {
     "name": "stdout",
     "output_type": "stream",
     "text": [
      "Enter the value of n : 3\n",
      "['Water', 'abcd', 'Know']\n"
     ]
    }
   ],
   "source": [
    "list1 = [\"Water\",\"abcd\",\"TO\",\"Know\",'9']\n",
    "temp=[]\n",
    "\n",
    "n = int(input(\"Enter the value of n : \"))\n",
    "for x in list1:\n",
    "    if len(x)>=n:\n",
    "        temp.append(x)\n",
    "print(temp)"
   ]
  },
  {
   "cell_type": "markdown",
   "metadata": {},
   "source": [
    "11. Write a Python function that takes two lists and returns True if they have at least one common member.  \n"
   ]
  },
  {
   "cell_type": "code",
   "execution_count": 11,
   "metadata": {},
   "outputs": [
    {
     "name": "stdout",
     "output_type": "stream",
     "text": [
      "True\n",
      "False\n",
      "False\n",
      "True\n",
      "False\n"
     ]
    }
   ],
   "source": [
    "l1 = ['1','2',\"a\",\"b\",'5']\n",
    "l2 = ['1',\"b\"]\n",
    "for x in  l1:\n",
    "    if x in l2:\n",
    "        print(True)\n",
    "    else:\n",
    "        print(False)\n",
    "\n"
   ]
  },
  {
   "cell_type": "markdown",
   "metadata": {},
   "source": [
    "12. Write a Python program to print a specified list after removing the 0th, 4th and 5th elements.  \n",
    "Sample List : ['Red', 'Green', 'White', 'Black', 'Pink', 'Yellow']\n",
    "Expected Output : ['Green', 'White', 'Black']"
   ]
  },
  {
   "cell_type": "code",
   "execution_count": 5,
   "metadata": {},
   "outputs": [
    {
     "name": "stdout",
     "output_type": "stream",
     "text": [
      "['Green', 'White', 'Black']\n"
     ]
    }
   ],
   "source": [
    "L1 =  [\"Red\", \"Green\", \"White\", \"Black\", \"Pink\", \"Yellow\"] \n",
    "L1 = [x for (i,x) in enumerate(L1) if i not in (0,4,5)]\n",
    "print(L1)"
   ]
  }
 ],
 "metadata": {
  "kernelspec": {
   "display_name": "Python 3",
   "language": "python",
   "name": "python3"
  },
  "language_info": {
   "codemirror_mode": {
    "name": "ipython",
    "version": 3
   },
   "file_extension": ".py",
   "mimetype": "text/x-python",
   "name": "python",
   "nbconvert_exporter": "python",
   "pygments_lexer": "ipython3",
   "version": "3.8.5"
  }
 },
 "nbformat": 4,
 "nbformat_minor": 4
}
