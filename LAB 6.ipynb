{
 "cells": [
  {
   "cell_type": "markdown",
   "metadata": {},
   "source": [
    "## LAB 6"
   ]
  },
  {
   "cell_type": "markdown",
   "metadata": {},
   "source": [
    "## DICTIONARY"
   ]
  },
  {
   "cell_type": "markdown",
   "metadata": {},
   "source": [
    "1. Create an empty dictionary\n"
   ]
  },
  {
   "cell_type": "code",
   "execution_count": 1,
   "metadata": {},
   "outputs": [
    {
     "name": "stdout",
     "output_type": "stream",
     "text": [
      "{}\n"
     ]
    }
   ],
   "source": [
    "dict = {}\n",
    "print(dict)"
   ]
  },
  {
   "cell_type": "markdown",
   "metadata": {},
   "source": [
    "2. Create the following dictionary \n",
    "   a.Key\tvalue\n",
    "   b.A\t     10\n",
    "   c.B\t     20\n"
   ]
  },
  {
   "cell_type": "code",
   "execution_count": 8,
   "metadata": {},
   "outputs": [
    {
     "name": "stdout",
     "output_type": "stream",
     "text": [
      "dict_items([('a', {'Key': 'Value'}), ('b', {'A': '10'}), ('c', {'B': '20'})])\n"
     ]
    }
   ],
   "source": [
    "dict = {\"a\":{\"Key\":\"Value\"},\"b\":{\"A\":\"10\"},\"c\":{\"B\":\"20\"}}\n",
    "print(dict.items())\n"
   ]
  },
  {
   "cell_type": "markdown",
   "metadata": {},
   "source": [
    "3. Create a dictionary with different datatypes for keys\n"
   ]
  },
  {
   "cell_type": "code",
   "execution_count": 10,
   "metadata": {},
   "outputs": [
    {
     "name": "stdout",
     "output_type": "stream",
     "text": [
      "dict_keys(['a', '10', '8.3'])\n"
     ]
    }
   ],
   "source": [
    "dict = {\"a\":'10',\"10\":\"A\",\"8.3\":\"9\"}\n",
    "print(dict.keys())\n"
   ]
  },
  {
   "cell_type": "markdown",
   "metadata": {},
   "source": [
    "4. Print all the items of a dictionary\n"
   ]
  },
  {
   "cell_type": "code",
   "execution_count": 11,
   "metadata": {},
   "outputs": [
    {
     "name": "stdout",
     "output_type": "stream",
     "text": [
      "dict_items([('a', {'Key': 'Value'}), ('b', {'A': '10'}), ('c', {'B': '20'})])\n"
     ]
    }
   ],
   "source": [
    "dict = {\"a\":{\"Key\":\"Value\"},\"b\":{\"A\":\"10\"},\"c\":{\"B\":\"20\"}}\n",
    "print(dict.items())\n"
   ]
  },
  {
   "cell_type": "markdown",
   "metadata": {},
   "source": [
    "5. Delete an element of a dictionary\n"
   ]
  },
  {
   "cell_type": "code",
   "execution_count": 15,
   "metadata": {},
   "outputs": [
    {
     "name": "stdout",
     "output_type": "stream",
     "text": [
      "dict_values(['10', 'A', '9'])\n",
      "After deleting:\n",
      "dict_values(['A', '9'])\n"
     ]
    }
   ],
   "source": [
    "dict = {\"a\":'10',\"b\":\"A\",\"c\":\"9\"}\n",
    "print(dict.values())\n",
    "print(\"After deleting:\")\n",
    "dict.pop(\"a\")\n",
    "print(dict.values())\n"
   ]
  },
  {
   "cell_type": "markdown",
   "metadata": {},
   "source": [
    "6. Delete full dictionary\n"
   ]
  },
  {
   "cell_type": "code",
   "execution_count": 18,
   "metadata": {},
   "outputs": [
    {
     "name": "stdout",
     "output_type": "stream",
     "text": [
      "dict_values(['10', 'A', '9'])\n",
      "After deleting:\n",
      "dict_values([])\n"
     ]
    }
   ],
   "source": [
    "dict = {\"a\":'10',\"b\":\"A\",\"c\":\"9\"}\n",
    "print(dict.values())\n",
    "print(\"After deleting:\")\n",
    "dict.clear()\n",
    "print(dict.values())\n"
   ]
  },
  {
   "cell_type": "markdown",
   "metadata": {},
   "source": [
    "7. Print a value for a key \n"
   ]
  },
  {
   "cell_type": "code",
   "execution_count": 21,
   "metadata": {},
   "outputs": [
    {
     "name": "stdout",
     "output_type": "stream",
     "text": [
      "dict_keys(['a', 'b', 'c'])\n"
     ]
    }
   ],
   "source": [
    "dict = {\"a\":'10',\"b\":\"A\",\"c\":\"9\"}\n",
    "print(dict.keys())\n"
   ]
  },
  {
   "cell_type": "markdown",
   "metadata": {},
   "source": [
    "8. To check if a key id present in a dictionary\n"
   ]
  },
  {
   "cell_type": "code",
   "execution_count": 34,
   "metadata": {},
   "outputs": [
    {
     "name": "stdout",
     "output_type": "stream",
     "text": [
      "Enter the key:5\n",
      "Key not present\n"
     ]
    }
   ],
   "source": [
    "i = input(\"Enter the key:\")\n",
    "dict = {\n",
    "    \"a\":'10',\n",
    "    \"b\":\"A\",\n",
    "    \"c\":\"9\"\n",
    "     }\n",
    "if i in dict.keys():\n",
    "        print(\"Key is present\")\n",
    "else:\n",
    "        print(\"Key not present\")\n"
   ]
  },
  {
   "cell_type": "markdown",
   "metadata": {},
   "source": [
    "9. Update a value of a key\n"
   ]
  },
  {
   "cell_type": "code",
   "execution_count": 37,
   "metadata": {},
   "outputs": [
    {
     "name": "stdout",
     "output_type": "stream",
     "text": [
      "dict_items([('a', '10'), ('b', 'A'), ('c', '9')])\n",
      "After updation :\n",
      "dict_items([('a', '10'), ('b', '9'), ('c', '9')])\n"
     ]
    }
   ],
   "source": [
    "dict = {\n",
    "    \"a\":'10',\n",
    "    \"b\":\"A\",\n",
    "    \"c\":\"9\"\n",
    "     }\n",
    "print(dict.items())\n",
    "dict[\"b\"] = \"9\"\n",
    "print(\"After updation :\")\n",
    "print(dict.items())\n"
   ]
  },
  {
   "cell_type": "markdown",
   "metadata": {},
   "source": [
    "10. Add a new key value pair\n"
   ]
  },
  {
   "cell_type": "code",
   "execution_count": 38,
   "metadata": {},
   "outputs": [
    {
     "name": "stdout",
     "output_type": "stream",
     "text": [
      "dict_items([('a', '10'), ('b', 'A'), ('c', '9')])\n",
      "After updation :\n",
      "dict_items([('a', '10'), ('b', 'A'), ('c', '9'), ('Z', 'Zebra')])\n"
     ]
    }
   ],
   "source": [
    "dict = {\n",
    "    \"a\":'10',\n",
    "    \"b\":\"A\",\n",
    "    \"c\":\"9\"\n",
    "     }\n",
    "print(dict.items())\n",
    "dict.update({\"Z\":\"Zebra\"})\n",
    "print(\"After updation :\")\n",
    "print(dict.items())\n"
   ]
  },
  {
   "cell_type": "markdown",
   "metadata": {},
   "source": [
    "11. Print dictionary for keys{1,10} and values as square of keys\n"
   ]
  },
  {
   "cell_type": "code",
   "execution_count": 39,
   "metadata": {},
   "outputs": [
    {
     "name": "stdout",
     "output_type": "stream",
     "text": [
      "dict_items([('1', '1'), ('2', '4'), ('3', '9'), ('4', '16'), ('5', '25'), ('6', '36'), ('7', '49'), ('8', '64'), ('9', '81'), ('10', '100')])\n"
     ]
    }
   ],
   "source": [
    "dict = {\n",
    "    \"1\":'1',\n",
    "    \"2\":\"4\",\n",
    "    \"3\":\"9\",\n",
    "    \"4\":'16',\n",
    "    \"5\":\"25\",\n",
    "    \"6\":\"36\",    \n",
    "    \"7\":'49',\n",
    "    \"8\":\"64\",\n",
    "    \"9\":\"81\",\n",
    "    \"10\":\"100\",\n",
    "     }\n",
    "print(dict.items())\n"
   ]
  },
  {
   "cell_type": "markdown",
   "metadata": {},
   "source": [
    "12. Print nested dictionary\n"
   ]
  },
  {
   "cell_type": "code",
   "execution_count": 41,
   "metadata": {},
   "outputs": [
    {
     "name": "stdout",
     "output_type": "stream",
     "text": [
      "{'Name': 'Raghav', 'Class': 'CSE 4'}\n",
      "{'Name': 'Tisha', 'Class': 'CSE 2'}\n"
     ]
    }
   ],
   "source": [
    "dict = {\"1\":{\"Name\":\"Raghav\",\"Class\":\"CSE 4\"},\"2\":{\"Name\":\"Tisha\",\"Class\":\"CSE 2\"}}\n",
    "print(dict[\"1\"])\n",
    "print(dict[\"2\"])\n"
   ]
  },
  {
   "cell_type": "markdown",
   "metadata": {},
   "source": [
    "13. Concatenate three dictionaries\n",
    "    Sample Dictionary :\n",
    "    dic1={1:10, 2:20}\n",
    "    dic2={3:30, 4:40}\n",
    "    dic3={5:50,6:60}\n",
    "    Expected Result : {1: 10, 2: 20, 3: 30, 4: 40, 5: 50, 6: 60}\n"
   ]
  },
  {
   "cell_type": "code",
   "execution_count": 46,
   "metadata": {},
   "outputs": [
    {
     "name": "stdout",
     "output_type": "stream",
     "text": [
      "{'1': '10', ' 2': '20', '3': '30', '4': '40', '5': '50', '6': '60'}\n"
     ]
    }
   ],
   "source": [
    "dic1={\"1\":\"10\",\" 2\":\"20\"}\n",
    "dic2={\"3\":\"30\", \"4\":\"40\"}\n",
    "dic3={\"5\":\"50\",\"6\":\"60\"} \n",
    "dic1.update(dic2)\n",
    "dic1.update(dic3)\n",
    "print(dic1)"
   ]
  },
  {
   "cell_type": "markdown",
   "metadata": {},
   "source": [
    "14. Sum all the values of a dictionary\n"
   ]
  },
  {
   "cell_type": "code",
   "execution_count": 49,
   "metadata": {},
   "outputs": [
    {
     "name": "stdout",
     "output_type": "stream",
     "text": [
      "<built-in function sum>\n"
     ]
    }
   ],
   "source": [
    "dict = {\n",
    "    \"a\":10,\n",
    "    \"b\":8,\n",
    "    \"c\":9\n",
    "     }\n",
    "sum(dict.values())\n",
    "print(sum)"
   ]
  },
  {
   "cell_type": "markdown",
   "metadata": {},
   "source": [
    "15. Accessing an element of a nested dictionary\n"
   ]
  },
  {
   "cell_type": "code",
   "execution_count": 54,
   "metadata": {},
   "outputs": [
    {
     "ename": "TypeError",
     "evalue": "unhashable type: 'list'",
     "output_type": "error",
     "traceback": [
      "\u001b[1;31m---------------------------------------------------------------------------\u001b[0m",
      "\u001b[1;31mTypeError\u001b[0m                                 Traceback (most recent call last)",
      "\u001b[1;32m<ipython-input-54-a4dcdfd0ad27>\u001b[0m in \u001b[0;36m<module>\u001b[1;34m\u001b[0m\n\u001b[0;32m      1\u001b[0m \u001b[0mdict\u001b[0m \u001b[1;33m=\u001b[0m \u001b[1;33m{\u001b[0m\u001b[1;34m\"1\"\u001b[0m\u001b[1;33m:\u001b[0m\u001b[1;33m{\u001b[0m\u001b[1;34m\"Name\"\u001b[0m\u001b[1;33m:\u001b[0m\u001b[1;34m\"Raghav\"\u001b[0m\u001b[1;33m,\u001b[0m\u001b[1;34m\"Class\"\u001b[0m\u001b[1;33m:\u001b[0m\u001b[1;34m\"CSE 4\"\u001b[0m\u001b[1;33m}\u001b[0m\u001b[1;33m,\u001b[0m\u001b[1;34m\"2\"\u001b[0m\u001b[1;33m:\u001b[0m\u001b[1;33m{\u001b[0m\u001b[1;34m\"Name\"\u001b[0m\u001b[1;33m:\u001b[0m\u001b[1;34m\"Tisha\"\u001b[0m\u001b[1;33m,\u001b[0m\u001b[1;34m\"Class\"\u001b[0m\u001b[1;33m:\u001b[0m\u001b[1;34m\"CSE 2\"\u001b[0m\u001b[1;33m}\u001b[0m\u001b[1;33m}\u001b[0m\u001b[1;33m\u001b[0m\u001b[1;33m\u001b[0m\u001b[0m\n\u001b[1;32m----> 2\u001b[1;33m \u001b[0mprint\u001b[0m\u001b[1;33m(\u001b[0m\u001b[0mdict\u001b[0m\u001b[1;33m[\u001b[0m\u001b[1;33m[\u001b[0m\u001b[1;34m\"1\"\u001b[0m\u001b[1;33m]\u001b[0m\u001b[1;33m,\u001b[0m\u001b[1;33m[\u001b[0m\u001b[1;34m\"Name\"\u001b[0m\u001b[1;33m]\u001b[0m\u001b[1;33m]\u001b[0m\u001b[1;33m)\u001b[0m\u001b[1;33m\u001b[0m\u001b[1;33m\u001b[0m\u001b[0m\n\u001b[0m",
      "\u001b[1;31mTypeError\u001b[0m: unhashable type: 'list'"
     ]
    }
   ],
   "source": [
    "dict = {\"1\":{\"Name\":\"Raghav\",\"Class\":\"CSE 4\"},\"2\":{\"Name\":\"Tisha\",\"Class\":\"CSE 2\"}}\n",
    "print(dict[[\"1\"],[\"Name\"]])"
   ]
  },
  {
   "cell_type": "markdown",
   "metadata": {},
   "source": [
    "16. Write a Python script to print a dictionary where the keys are numbers between 1 and 15 (both included) and the values \n",
    "    are square of keys.\n",
    "    Sample Dictionary\n",
    "    {1: 1, 2: 4, 3: 9, 4: 16, 5: 25, 6: 36, 7: 49, 8: 64, 9: 81, 10: 100, 11: 121, 12: 144, 13: 169, 14: 196, 15: 225}\n",
    "\n"
   ]
  },
  {
   "cell_type": "code",
   "execution_count": 56,
   "metadata": {},
   "outputs": [
    {
     "ename": "SyntaxError",
     "evalue": "invalid syntax (<ipython-input-56-dc8397134605>, line 2)",
     "output_type": "error",
     "traceback": [
      "\u001b[1;36m  File \u001b[1;32m\"<ipython-input-56-dc8397134605>\"\u001b[1;36m, line \u001b[1;32m2\u001b[0m\n\u001b[1;33m    for x in range(1,16):\u001b[0m\n\u001b[1;37m                        ^\u001b[0m\n\u001b[1;31mSyntaxError\u001b[0m\u001b[1;31m:\u001b[0m invalid syntax\n"
     ]
    }
   ],
   "source": [
    "d=dict({1: 1, 2: 4, 3: 9, 4: 16, 5: 25, 6: 36, 7: 49, 8: 64, 9: 81, 10: 100, 11: 121, 12: 144, 13: 169, 14: 196, 15: 225}\n",
    "for x in range(1,16):\n",
    "    d[x]=x*x\n",
    "print(d)  \n",
    " "
   ]
  },
  {
   "cell_type": "markdown",
   "metadata": {},
   "source": [
    "17. Insert factorial of keys in values. And print dictionary\n"
   ]
  },
  {
   "cell_type": "code",
   "execution_count": null,
   "metadata": {},
   "outputs": [],
   "source": []
  },
  {
   "cell_type": "markdown",
   "metadata": {},
   "source": [
    "## SETS"
   ]
  },
  {
   "cell_type": "markdown",
   "metadata": {},
   "source": [
    "\n",
    "1. Write a program to create a set\n"
   ]
  },
  {
   "cell_type": "code",
   "execution_count": 1,
   "metadata": {},
   "outputs": [
    {
     "name": "stdout",
     "output_type": "stream",
     "text": [
      "{'a', 'b', 5}\n"
     ]
    }
   ],
   "source": [
    "set_1 = {\"a\",5,\"b\"}\n",
    "print(set_1)"
   ]
  },
  {
   "cell_type": "markdown",
   "metadata": {},
   "source": [
    "2. Write a program to add an element to set\n"
   ]
  },
  {
   "cell_type": "code",
   "execution_count": 2,
   "metadata": {},
   "outputs": [
    {
     "name": "stdout",
     "output_type": "stream",
     "text": [
      "{'a', 'b', 5}\n",
      "After adding element\n",
      "{'a', 'b', 5, 'c'}\n"
     ]
    }
   ],
   "source": [
    "set_1 = {\"a\",5,\"b\"}\n",
    "print(set_1)\n",
    "set_1.add(\"c\")\n",
    "print(\"After adding element\")\n",
    "print(set_1)"
   ]
  },
  {
   "cell_type": "markdown",
   "metadata": {},
   "source": [
    "3. Write a program to add multiple items using update function\n"
   ]
  },
  {
   "cell_type": "code",
   "execution_count": 4,
   "metadata": {},
   "outputs": [
    {
     "name": "stdout",
     "output_type": "stream",
     "text": [
      "{'a', 'b', 5}\n",
      "After adding element\n",
      "{'a', 'd', 5, 'c', 7, 'b'}\n"
     ]
    }
   ],
   "source": [
    "set_1 = {\"a\",5,\"b\"}\n",
    "print(set_1)\n",
    "set_2 = {\"c\",7,\"d\"}\n",
    "set_1.update(set_2)\n",
    "print(\"After adding element\")\n",
    "print(set_1)"
   ]
  },
  {
   "cell_type": "markdown",
   "metadata": {},
   "source": [
    "4. Write a program to find length of a set\n"
   ]
  },
  {
   "cell_type": "code",
   "execution_count": 6,
   "metadata": {},
   "outputs": [
    {
     "name": "stdout",
     "output_type": "stream",
     "text": [
      "3\n"
     ]
    }
   ],
   "source": [
    "set_1 = {\"a\",5,\"b\"}\n",
    "print(len(set_1))"
   ]
  },
  {
   "cell_type": "markdown",
   "metadata": {},
   "source": [
    "5. Write a program to remove value from a set\n"
   ]
  },
  {
   "cell_type": "code",
   "execution_count": 7,
   "metadata": {},
   "outputs": [
    {
     "name": "stdout",
     "output_type": "stream",
     "text": [
      "{'a', 'b', 5}\n",
      "After removing element\n",
      "{'a', 5}\n"
     ]
    }
   ],
   "source": [
    "set_1 = {\"a\",5,\"b\"}\n",
    "print(set_1)\n",
    "set_1.remove(\"b\")\n",
    "print(\"After removing element\")\n",
    "print(set_1)"
   ]
  },
  {
   "cell_type": "markdown",
   "metadata": {},
   "source": [
    "6. Write a program to pop an element from a set\n"
   ]
  },
  {
   "cell_type": "code",
   "execution_count": 9,
   "metadata": {},
   "outputs": [
    {
     "name": "stdout",
     "output_type": "stream",
     "text": [
      "{'a', 'b', 5}\n",
      "After poping element\n",
      "{'b', 5}\n"
     ]
    }
   ],
   "source": [
    "set_1 = {\"a\",5,\"b\"}\n",
    "print(set_1)\n",
    "set_1.pop()\n",
    "print(\"After poping element\")\n",
    "print(set_1)"
   ]
  },
  {
   "cell_type": "markdown",
   "metadata": {},
   "source": [
    "7. Write a program to update a set\n"
   ]
  },
  {
   "cell_type": "code",
   "execution_count": 10,
   "metadata": {},
   "outputs": [
    {
     "name": "stdout",
     "output_type": "stream",
     "text": [
      "{'a', 'b', 5}\n",
      "After adding element\n",
      "{'a', 'd', 5, 'c', 7, 'b'}\n"
     ]
    }
   ],
   "source": [
    "set_1 = {\"a\",5,\"b\"}\n",
    "print(set_1)\n",
    "set_2 = {\"c\",7,\"d\"}\n",
    "set_1.update(set_2)\n",
    "print(\"After adding element\")\n",
    "print(set_1)"
   ]
  },
  {
   "cell_type": "markdown",
   "metadata": {},
   "source": [
    "8. Write a Python program to create an intersection of sets.\n"
   ]
  },
  {
   "cell_type": "code",
   "execution_count": 14,
   "metadata": {},
   "outputs": [
    {
     "name": "stdout",
     "output_type": "stream",
     "text": [
      "{'a', 'b', 5}\n",
      "{'d', 'c', 5}\n",
      "Intersection of the sets is :\n",
      "{5}\n"
     ]
    }
   ],
   "source": [
    "set_1 = {\"a\",5,\"b\"}\n",
    "print(set_1)\n",
    "set_2 = {\"c\",5,\"d\"}\n",
    "print(set_2)\n",
    "set_3 = set_1 & set_2\n",
    "print(\"Intersection of the sets is :\")\n",
    "print(set_3)"
   ]
  },
  {
   "cell_type": "markdown",
   "metadata": {},
   "source": [
    "9. Write a Python program to create a union of sets.\n"
   ]
  },
  {
   "cell_type": "code",
   "execution_count": 15,
   "metadata": {},
   "outputs": [
    {
     "name": "stdout",
     "output_type": "stream",
     "text": [
      "{'a', 'b', 5}\n",
      "{'d', 'c', 5}\n",
      "Union of the sets is :\n",
      "{'a', 'd', 5, 'c', 'b'}\n"
     ]
    }
   ],
   "source": [
    "set_1 = {\"a\",5,\"b\"}\n",
    "print(set_1)\n",
    "set_2 = {\"c\",5,\"d\"}\n",
    "print(set_2)\n",
    "set_3 = set_1 | set_2\n",
    "print(\"Union of the sets is :\")\n",
    "print(set_3)"
   ]
  },
  {
   "cell_type": "markdown",
   "metadata": {},
   "source": [
    "10. Write a Python program to clear a set.\n"
   ]
  },
  {
   "cell_type": "code",
   "execution_count": 16,
   "metadata": {},
   "outputs": [
    {
     "name": "stdout",
     "output_type": "stream",
     "text": [
      "set()\n"
     ]
    }
   ],
   "source": [
    "set_1 = {\"a\",5,\"b\"}\n",
    "set_1.clear()\n",
    "print(set_1)\n"
   ]
  },
  {
   "cell_type": "markdown",
   "metadata": {},
   "source": [
    "11. Write a Python program to issubset and issuperset.\n"
   ]
  },
  {
   "cell_type": "code",
   "execution_count": 19,
   "metadata": {},
   "outputs": [
    {
     "name": "stdout",
     "output_type": "stream",
     "text": [
      "Issubset\n",
      "Issuperset\n"
     ]
    },
    {
     "data": {
      "text/plain": [
       "False"
      ]
     },
     "execution_count": 19,
     "metadata": {},
     "output_type": "execute_result"
    }
   ],
   "source": [
    "set_1 = {\"a\",5,\"b\"}\n",
    "set_2 = {\"c\",5}\n",
    "set_3 = {\"a\",5}\n",
    "set_4 = {\"c\",5,\"d\",\"l\",\"l\"}\n",
    "\n",
    "print(\"Issubset\")\n",
    "\n",
    "set_1.issubset(set_2)\n",
    "set_2.issubset(set_3)\n",
    "set_3.issubset(set_4)\n",
    "set_4.issubset(set_1)\n",
    "\n",
    "print(\"Issuperset\")\n",
    "\n",
    "set_2.issuperset(set_2)\n",
    "set_1.issuperset(set_3)\n",
    "set_3.issuperset(set_4)\n",
    "set_4.issuperset(set_1)\n",
    "\n"
   ]
  },
  {
   "cell_type": "markdown",
   "metadata": {},
   "source": [
    "12. Write a Python program to create set difference.\n"
   ]
  },
  {
   "cell_type": "code",
   "execution_count": 20,
   "metadata": {},
   "outputs": [
    {
     "name": "stdout",
     "output_type": "stream",
     "text": [
      "{'a', 'b', 5}\n",
      "{'d', 'c', 5}\n",
      "Intersection of the sets is :\n",
      "{5}\n",
      "Set difference :\n",
      "{'a', 'b'}\n"
     ]
    }
   ],
   "source": [
    "set_1 = {\"a\",5,\"b\"}\n",
    "print(set_1)\n",
    "set_2 = {\"c\",5,\"d\"}\n",
    "print(set_2)\n",
    "set_3 = set_1 & set_2\n",
    "print(\"Intersection of the sets is :\")\n",
    "print(set_3)\n",
    "set_4 = set_1 - set_2\n",
    "print(\"Set difference :\")\n",
    "print(set_4)"
   ]
  },
  {
   "cell_type": "markdown",
   "metadata": {},
   "source": [
    "13. Write a Python program to create a symmetric difference."
   ]
  },
  {
   "cell_type": "code",
   "execution_count": 21,
   "metadata": {},
   "outputs": [
    {
     "name": "stdout",
     "output_type": "stream",
     "text": [
      "{'a', 'b', 5}\n",
      "{'d', 'c', 5}\n",
      "Symmetric difference of the sets is :\n",
      "{'d', 'b', 'c', 'a'}\n"
     ]
    }
   ],
   "source": [
    "set_1 = {\"a\",5,\"b\"}\n",
    "print(set_1)\n",
    "set_2 = {\"c\",5,\"d\"}\n",
    "print(set_2)\n",
    "set_3 = set_1 ^ set_2\n",
    "print(\"Symmetric difference of the sets is :\")\n",
    "print(set_3)\n"
   ]
  }
 ],
 "metadata": {
  "kernelspec": {
   "display_name": "Python 3",
   "language": "python",
   "name": "python3"
  },
  "language_info": {
   "codemirror_mode": {
    "name": "ipython",
    "version": 3
   },
   "file_extension": ".py",
   "mimetype": "text/x-python",
   "name": "python",
   "nbconvert_exporter": "python",
   "pygments_lexer": "ipython3",
   "version": "3.8.5"
  }
 },
 "nbformat": 4,
 "nbformat_minor": 4
}
